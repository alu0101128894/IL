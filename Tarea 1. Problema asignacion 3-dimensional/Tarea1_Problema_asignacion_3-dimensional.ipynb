{
  "cells": [
    {
      "attachments": {},
      "cell_type": "markdown",
      "metadata": {
        "id": "TdkhAmqKpWfu"
      },
      "source": [
        "**Realizado por**: José Javier Díaz González\n",
        "\n",
        "**Correo**: alu0101128894@ull.edu.es\n",
        "\n",
        "Esta práctica ha sido mi primera toma de contacto con Python y el código de diferentes librería y modelos matemáticos de problemas de logística.\n",
        "\n",
        "Como es un primer paso, he querido añadir a esta tarea los pasos introductorios del cuaderno del profesor, para demostrar que los he realizado. Sin embargo, no han sido modificados.\n",
        "\n",
        "En el apartado de 'Problemas de Asignación' se encuentra el código del cuaderno, con las puntualizaciones, modificaciones y conclusiones que he ido generando a lo largo de su ejecución y comprensión."
      ]
    },
    {
      "cell_type": "markdown",
      "metadata": {
        "id": "dUf6bpwqw-su"
      },
      "source": [
        "# Introducción"
      ]
    },
    {
      "attachments": {},
      "cell_type": "markdown",
      "metadata": {},
      "source": [
        "Principalmente aprendemos a representar problemas reales mediante modelos matemáticos de programación lineal (continua o entera), es decir, del tipo $\\max\\{ c^Tx: Ax\\leq b, x\\in Z^n\\}$. Luego estos modelos matemáticos serán resueltos mediante herramientas informáticas especializadas, como [Cplex](https://www.ibm.com/analytics/cplex-optimizer), [Xpress](http://www.fico.com/es/products/fico-xpress-optimization), Gurobi, SCIP, GLKP, CBC, GLOP, etc. Aunque dedicamos algo a comprender las metodologías implementadas en estas herramientas, principalmente la asignatura insistirá en la modelización de problemas."
      ]
    },
    {
      "attachments": {},
      "cell_type": "markdown",
      "metadata": {},
      "source": [
        "Un ejemplo de modelo matemático es:\n",
        "\\begin{eqnarray}\n",
        "\\max\\;\\; x+10y& & \\\\\n",
        "x+7y&\\leq& 17.5  \\\\\n",
        "x &\\leq& 3.5  \\\\\n",
        "x,y&\\in& Z\n",
        "\\end{eqnarray}"
      ]
    },
    {
      "cell_type": "markdown",
      "metadata": {
        "id": "J6Cb6SeOMh7X"
      },
      "source": [
        "## Lenguaje PuLP de COIN-OR"
      ]
    },
    {
      "cell_type": "markdown",
      "metadata": {
        "id": "OfPsh4ymVjwq"
      },
      "source": [
        "A fín de no complicarnos con la instalación de licencias comerciales, comenzamos usando una librería de optimización de software libre que permite ser llamada desde Python y que ha sideo desarrollada en el proyecto [COIN-OR](https://www.coin-or.org/). Se llama CBC. Además en este mismo proyecto existe un lenguaje que amplía el Python y se llama [PuLP](https://www.coin-or.org/PuLP/). Usando este lenguaje el modelo anterior se resuelve mediante:\n"
      ]
    },
    {
      "cell_type": "code",
      "execution_count": 5,
      "metadata": {
        "id": "YsdTrBeL046m"
      },
      "outputs": [
        {
          "name": "stdout",
          "output_type": "stream",
          "text": [
            "Requirement already satisfied: pulp in c:\\users\\kephril\\appdata\\local\\programs\\python\\python310\\lib\\site-packages (2.7.0)\n"
          ]
        },
        {
          "name": "stderr",
          "output_type": "stream",
          "text": [
            "\n",
            "[notice] A new release of pip available: 22.2.2 -> 22.3.1\n",
            "[notice] To update, run: python.exe -m pip install --upgrade pip\n"
          ]
        }
      ],
      "source": [
        "!pip install pulp\n",
        "from pulp import *"
      ]
    },
    {
      "cell_type": "code",
      "execution_count": 6,
      "metadata": {
        "id": "WAsnbunBNetP"
      },
      "outputs": [],
      "source": [
        "prob = LpProblem(\"MiPrimerProblemaEntero\", LpMaximize)\n",
        "X = LpVariable(\"X\", 0, None,cat='Integer')\n",
        "Y = LpVariable(\"Y\", 0, None,cat='Integer')\n",
        "prob += X + 10 * Y\n",
        "prob += X + 7 * Y <= 17.5\n",
        "prob += X <= 3.5"
      ]
    },
    {
      "cell_type": "code",
      "execution_count": 7,
      "metadata": {
        "id": "1IJAxlcv1PHM"
      },
      "outputs": [
        {
          "name": "stdout",
          "output_type": "stream",
          "text": [
            "Status =  Optimal\n",
            "Optimal objective value =  23.0\n",
            "  X =  3.0\n",
            "  Y =  2.0\n"
          ]
        }
      ],
      "source": [
        "prob.solve()\n",
        "\n",
        "print(\"Status = \", LpStatus[prob.status])                    \n",
        "print(\"Optimal objective value = \", value(prob.objective))\n",
        "print(\"  X = \", X.varValue)\n",
        "print(\"  Y = \", Y.varValue)\n",
        "# prob.writeLP(\"modelo.lp\")\n",
        "# print(prob)"
      ]
    },
    {
      "cell_type": "markdown",
      "metadata": {
        "id": "OzLY8spa047D"
      },
      "source": [
        "Pero con el lenguaje PuLP podemos usar otras librerias de optimización.  Por ejemplo podemos usar GLPK o LPSOLVER que son otras librerías gratuitas de optimización, o Gurobi o Cplex o Xpress que son de pago:"
      ]
    },
    {
      "cell_type": "code",
      "execution_count": 6,
      "metadata": {},
      "outputs": [
        {
          "ename": "ErrorException",
          "evalue": "syntax: extra token \"install\" after end of expression",
          "output_type": "error",
          "traceback": [
            "syntax: extra token \"install\" after end of expression\n",
            "\n",
            "Stacktrace:\n",
            " [1] top-level scope\n",
            "   @ c:\\Users\\Kephril\\Desktop\\julia\\Tarea1_Problema_asignacion_3-dimensional_JoseJavierDiazGlez.ipynb:1"
          ]
        }
      ],
      "source": [
        "!pip install gurobipy"
      ]
    },
    {
      "cell_type": "code",
      "execution_count": null,
      "metadata": {
        "id": "-d4FOi6K047G"
      },
      "outputs": [],
      "source": [
        "from gurobipy import *\n",
        "\n",
        "prob.solve( GUROBI( TimeLimit=60 , msg=False ) ) # Error GUROBI No disponible\n",
        "\n",
        "print(\"Status = \", LpStatus[prob.status])\n",
        "print(\"Optimal objective value = \", value(prob.objective))\n",
        "print(\"  X = \", X.varValue)\n",
        "print(\"  Y = \", Y.varValue)"
      ]
    },
    {
      "cell_type": "code",
      "execution_count": null,
      "metadata": {
        "id": "kTSxS8xe047S"
      },
      "outputs": [],
      "source": [
        "!pip install cplex\n",
        "from cplex import *\n",
        "\n",
        "prob.solve( CPLEX(msg=False) )                  # Error PuLP: cannot execute cplex\n",
        "\n",
        "print(\"Status = \", LpStatus[prob.status])\n",
        "print(\"Optimal objective value = \", value(prob.objective))\n",
        "print(\"  X = \", X.varValue)\n",
        "print(\"  Y = \", Y.varValue)"
      ]
    },
    {
      "cell_type": "code",
      "execution_count": null,
      "metadata": {
        "id": "MFQiURZX047c"
      },
      "outputs": [],
      "source": [
        "!pip install xpress\n",
        "from xpress import *\n",
        "\n",
        "prob.solve( XPRESS(msg=True, keepFiles=True) )     # PuLP: cannot execute optimizer\n",
        "\n",
        "print(\"Status = \", LpStatus[prob.status])\n",
        "print(\"Optimal objective value = \", value(prob.objective))\n",
        "print(\"  X = \", X.varValue)\n",
        "print(\"  Y = \", Y.varValue)"
      ]
    },
    {
      "cell_type": "markdown",
      "metadata": {
        "id": "44KbU8Rwh48t"
      },
      "source": [
        "Lo positivo es que este lenguaje permite usar fácilmente muchas librerías de optimización (comerciales o gratuitas). Lo negativo es que no permite funciones avanzadas de ninguna librería, sino sólo las funciones genéricas comunes a todas."
      ]
    },
    {
      "cell_type": "markdown",
      "metadata": {
        "id": "cm2mxpsYMh7j"
      },
      "source": [
        "## Lenguaje de Google OR-tools"
      ]
    },
    {
      "cell_type": "markdown",
      "metadata": {
        "id": "MIizVvLKNg1E"
      },
      "source": [
        "Otro lenguaje alternativo es que ofrece Google, llamado [OR-tools](https://developers.google.com/optimization/). Ni PuLP ni OR-tools son librerías de optimización, sino extensiones del lenguaje Python para escribir cómodamente modelos matemáticos de Programación Lineal (Entera o Continua) que luego pueden ser resueltas con cualquiera de las librerias citadas (CBC, Cplex, Gurobi,...). Actúan como puente entre quien desea resolver un modelo y quien lo resuelve. Muy cómodo. Muy recomendable. \n",
        "\n",
        "Para usar la herramienta OR-tools de Google:"
      ]
    },
    {
      "cell_type": "code",
      "execution_count": 51,
      "metadata": {
        "id": "QeXiQgwYjfHB"
      },
      "outputs": [
        {
          "name": "stdout",
          "output_type": "stream",
          "text": [
            "Requirement already satisfied: ortools in c:\\users\\kephril\\appdata\\local\\programs\\python\\python310\\lib\\site-packages (9.5.2237)\n",
            "Requirement already satisfied: protobuf>=4.21.5 in c:\\users\\kephril\\appdata\\local\\programs\\python\\python310\\lib\\site-packages (from ortools) (4.21.12)\n",
            "Requirement already satisfied: numpy>=1.13.3 in c:\\users\\kephril\\appdata\\local\\programs\\python\\python310\\lib\\site-packages (from ortools) (1.24.0)\n",
            "Requirement already satisfied: absl-py>=0.13 in c:\\users\\kephril\\appdata\\local\\programs\\python\\python310\\lib\\site-packages (from ortools) (1.3.0)\n"
          ]
        },
        {
          "name": "stderr",
          "output_type": "stream",
          "text": [
            "\n",
            "[notice] A new release of pip available: 22.2.2 -> 22.3.1\n",
            "[notice] To update, run: python.exe -m pip install --upgrade pip\n"
          ]
        }
      ],
      "source": [
        "!pip install ortools\n",
        "from ortools.linear_solver import pywraplp"
      ]
    },
    {
      "attachments": {},
      "cell_type": "markdown",
      "metadata": {
        "id": "fWXoW-e20472"
      },
      "source": [
        "Via este lenguaje se pueden usar varias librerías de optimización (comerciales y gratuitas) pero hay especialmente 2 librerías gratuitas de optimización muy simples de usar. Uno para programación lineal **continua** llamado GLOP_LINEAR_PROGRAMMING que está construido por Google, y otro para programación lineal **entera** llamado CBC_MIXED_INTEGER_PROGRAMMING que está prestado por Coin-OR. Existe la posibilidad de usar otras librerías de optimización (terceros), pero para ello hay que instalarse el código fuente de Google OR-tools en tu ordenador local."
      ]
    },
    {
      "cell_type": "code",
      "execution_count": 52,
      "metadata": {
        "id": "4t3pdCAiUIf5"
      },
      "outputs": [
        {
          "name": "stdout",
          "output_type": "stream",
          "text": [
            "Number of variables = 2\n",
            "Number of constraints = 2\n",
            "Optimal objective value = 23\n",
            "   x = 3\n",
            "   y = 2\n"
          ]
        }
      ],
      "source": [
        "solver = pywraplp.Solver('MiPrimerProblemaEntero', pywraplp.Solver.CBC_MIXED_INTEGER_PROGRAMMING)\n",
        "#solver = pywraplp.Solver('MiPrimerProblemaEntero', pywraplp.Solver.SCIP_MIXED_INTEGER_PROGRAMMING)\n",
        "#solver = pywraplp.Solver('MiPrimerProblemaEntero', pywraplp.Solver.GLPK_MIXED_INTEGER_PROGRAMMING)\n",
        "#solver = pywraplp.Solver('MiPrimerProblemaEntero', pywraplp.Solver.CPLEX_MIXED_INTEGER_PROGRAMMING)\n",
        "#solver = pywraplp.Solver('MiPrimerProblemaEntero', pywraplp.Solver.GUROBI_MIXED_INTEGER_PROGRAMMING)\n",
        "#solver = pywraplp.Solver('MiPrimerProblemaEntero', pywraplp.Solver.XPRESS_MIXED_INTEGER_PROGRAMMING)\n",
        "#solver = pywraplp.Solver('MiPrimerProblemaEntero', pywraplp.Solver.GLOP_LINEAR_PROGRAMMING)  # solo continua\n",
        "#solver = pywraplp.Solver('MiPrimerProblemaEntero', pywraplp.Solver.BOP_INTEGER_PROGRAMMING)  # solo 0-1\n",
        "\n",
        "x = solver.IntVar(0.0, solver.infinity(), 'x')\n",
        "y = solver.IntVar(0.0, solver.infinity(), 'y')\n",
        "\n",
        "solver.Maximize(x + 10 * y)\n",
        "solver.Add( x + 7 * y <= 17.5 )\n",
        "solver.Add( x <= 7.5 )  \n",
        "\n",
        "result_status = solver.Solve()\n",
        "assert result_status == pywraplp.Solver.OPTIMAL\n",
        "  \n",
        "print('Number of variables =', solver.NumVariables())\n",
        "print('Number of constraints =', solver.NumConstraints())\n",
        "print('Optimal objective value = %d' % solver.Objective().Value())\n",
        "  \n",
        "variable_list = [x, y]\n",
        "for variable in variable_list:\n",
        "    print('   %s = %d' % (variable.name(), variable.solution_value()))"
      ]
    },
    {
      "cell_type": "markdown",
      "metadata": {
        "id": "exS1-MmaTrti"
      },
      "source": [
        "Tenemos en OR-tools dos modos de escribir los detalles del modelo: o bien coeficiente a coeficiente, o bien fila a fila. Arriba hemos usado el fila-a-file y a abajo verás el columna-a-columna."
      ]
    },
    {
      "cell_type": "code",
      "execution_count": 53,
      "metadata": {
        "id": "jdl-TK8cVVbW"
      },
      "outputs": [
        {
          "name": "stdout",
          "output_type": "stream",
          "text": [
            "Number of variables = 2\n",
            "Number of constraints = 2\n",
            "Optimal objective value = 23\n",
            "   x = 3\n",
            "   y = 2\n"
          ]
        }
      ],
      "source": [
        "solver = pywraplp.Solver('MiPrimerProblemaEntero', pywraplp.Solver.CBC_MIXED_INTEGER_PROGRAMMING)\n",
        "\n",
        "# x and y are integer non-negative variables.\n",
        "x = solver.IntVar(0.0, solver.infinity(), 'x')\n",
        "y = solver.IntVar(0.0, solver.infinity(), 'y')\n",
        "\n",
        "# x + 7 * y <= 17.5\n",
        "constraint1 = solver.Constraint(-solver.infinity(), 17.5)\n",
        "constraint1.SetCoefficient(x, 1)\n",
        "constraint1.SetCoefficient(y, 7)\n",
        "\n",
        "# x <= 3.5\n",
        "constraint2 = solver.Constraint(-solver.infinity(), 3.5)\n",
        "constraint2.SetCoefficient(x, 1)\n",
        "constraint2.SetCoefficient(y, 0)\n",
        "\n",
        "# Maximize x + 10 * y.\n",
        "objective = solver.Objective()\n",
        "objective.SetCoefficient(x, 1)\n",
        "objective.SetCoefficient(y, 10)\n",
        "objective.SetMaximization()\n",
        "\n",
        "\"\"\"Solve the problem and print the solution.\"\"\"\n",
        "result_status = solver.Solve()\n",
        "# The problem has an optimal solution.\n",
        "assert result_status == pywraplp.Solver.OPTIMAL\n",
        "  \n",
        "print('Number of variables =', solver.NumVariables())\n",
        "print('Number of constraints =', solver.NumConstraints())\n",
        "print('Optimal objective value = %d' % solver.Objective().Value())\n",
        "  \n",
        "# The value of each variable in the solution.\n",
        "variable_list = [x, y]\n",
        "for variable in variable_list:\n",
        "    print('   %s = %d' % (variable.name(), variable.solution_value()))"
      ]
    },
    {
      "cell_type": "markdown",
      "metadata": {
        "id": "LmkB1X811j-B"
      },
      "source": [
        "Personalmente creo que el modo \"fila a fila\" es más claro. Pero pueden haber usuarios que prefieran el \"columna a columna\" (que fue el formato original de las primeras herramientas informáticas en Programación Matemática).\n",
        "\n",
        "El anterior ejemplo fue un modelo ejemplo muy pequeño, con tan sólo 2 variables y 2 restricciones. Es un ejemplo numérico diminuto, de nulo interés práctico. En la práctica se plantean problemas más complejos que necesitan ser representado mediante modelos con más variables y restricciones, y en consecuencia donde notación abreviada ayuda a entenderlos mejor y reducir la posibilidad de cometer errores al introducirlos en un ordenador. Veamos un ejemplo de problema mayor en la siguiente sección."
      ]
    },
    {
      "cell_type": "markdown",
      "metadata": {
        "id": "wzy1uPCnMh7q"
      },
      "source": [
        "## Gratis frente a Comercial"
      ]
    },
    {
      "cell_type": "markdown",
      "metadata": {
        "id": "bOVBvc59048H"
      },
      "source": [
        "Los modelos de programación entera pequeños pueden ser muy difíciles. Aqui lo mostramos con 3 variables y 1 ecuación:"
      ]
    },
    {
      "cell_type": "code",
      "execution_count": 54,
      "metadata": {
        "id": "utgI4m4javL6"
      },
      "outputs": [
        {
          "name": "stdout",
          "output_type": "stream",
          "text": [
            " Finalizó sin optimo : status =  6\n",
            "Time =  60524  milliseconds\n",
            "Iterations =  1239921\n",
            "Nodes =  1856615\n"
          ]
        }
      ],
      "source": [
        "solver = pywraplp.Solver('ProblemaEnteroDificil',  pywraplp.Solver.CBC_MIXED_INTEGER_PROGRAMMING )\n",
        "\n",
        "x = solver.IntVar(0.0, solver.infinity(), 'x')\n",
        "y = solver.IntVar(0.0, solver.infinity(), 'y')\n",
        "z = solver.IntVar(0.0, solver.infinity(), 'z')\n",
        "\n",
        "solver.SetTimeLimit( 60 * 1000 )   # le ponemos un tiempo límite de 60 segundos para no calentar el ordenador\n",
        "\n",
        "solver.Minimize(x)\n",
        "solver.Add( 75001 * y + 75002 * z == 75000 + 75000 * x )\n",
        "result_status = solver.Solve()\n",
        "\n",
        "if result_status == pywraplp.Solver.OPTIMAL:\n",
        "  \n",
        "    print('Number of variables =', solver.NumVariables())\n",
        "    print('Number of constraints =', solver.NumConstraints())\n",
        "    print('Optimal objective value = %d' % solver.Objective().Value())\n",
        "  \n",
        "    variable_list = [x, y, z]\n",
        "    for variable in variable_list:\n",
        "         print('   %s = %d' % (variable.name(), variable.solution_value()))\n",
        "else:\n",
        "    print(' Finalizó sin optimo : status = ',result_status)\n",
        "    \n",
        "print(\"Time = \", solver.WallTime(), \" milliseconds\")\n",
        "print(\"Iterations = \", solver.Iterations())\n",
        "print(\"Nodes = \", solver.nodes())"
      ]
    },
    {
      "cell_type": "markdown",
      "metadata": {
        "id": "MKk-Yz2r048M"
      },
      "source": [
        "Mismo problema con Gurobi, aunque no te funcionará si no tienes la licencia apropiada en el ordenador donde lo quieras resolver:"
      ]
    },
    {
      "cell_type": "code",
      "execution_count": 55,
      "metadata": {
        "id": "NZGxNeWvad4a"
      },
      "outputs": [
        {
          "name": "stdout",
          "output_type": "stream",
          "text": [
            "Gurobi Optimizer version 10.0.0 build v10.0.0rc2 (win64)\n",
            "\n",
            "CPU model: Intel(R) Core(TM) i7-8750H CPU @ 2.20GHz, instruction set [SSE2|AVX|AVX2]\n",
            "Thread count: 6 physical cores, 12 logical processors, using up to 12 threads\n",
            "\n",
            "Optimize a model with 1 rows, 3 columns and 3 nonzeros\n",
            "Model fingerprint: 0xe72ebd3d\n",
            "Variable types: 0 continuous, 3 integer (0 binary)\n",
            "Coefficient statistics:\n",
            "  Matrix range     [8e+04, 8e+04]\n",
            "  Objective range  [1e+00, 1e+00]\n",
            "  Bounds range     [0e+00, 0e+00]\n",
            "  RHS range        [8e+04, 8e+04]\n",
            "Presolve removed 1 rows and 3 columns\n",
            "Presolve time: 0.00s\n",
            "Presolve: All rows and columns removed\n",
            "\n",
            "Explored 0 nodes (0 simplex iterations) in 0.02 seconds (0.00 work units)\n",
            "Thread count was 1 (of 12 available processors)\n",
            "\n",
            "Solution count 1: 37500 \n",
            "\n",
            "Optimal solution found (tolerance 1.00e-04)\n",
            "Best objective 3.750000000000e+04, best bound 3.750000000000e+04, gap 0.0000%\n",
            "Optimal  objective value = 37500\n",
            "  x = 37500\n",
            "  y = 0\n",
            "  z = 37500\n",
            "runtime is  0.026000022888183594\n"
          ]
        }
      ],
      "source": [
        "from gurobipy import *\n",
        "\n",
        "modelo = Model(\"ProblemaEnteroDificil\")\n",
        "\n",
        "x = modelo.addVar(vtype=GRB.INTEGER, name=\"x\")\n",
        "y = modelo.addVar(vtype=GRB.INTEGER, name=\"y\")\n",
        "z = modelo.addVar(vtype=GRB.INTEGER, name=\"z\")\n",
        "\n",
        "modelo.setObjective(x, GRB.MINIMIZE)\n",
        "modelo.addConstr( 75001 * y + 75002 * z == 75000 + 75000 * x , \"c0\")\n",
        "modelo.optimize()\n",
        "\n",
        "print('Optimal  objective value = %g' % modelo.objVal)\n",
        "for variable in modelo.getVars():\n",
        "    print('  %s = %g' % (variable.varName, variable.x))\n",
        "print('runtime is ',modelo.Runtime)"
      ]
    },
    {
      "cell_type": "markdown",
      "metadata": {
        "id": "9DChzUGt048Q"
      },
      "source": [
        "Si comparas los tiempos de cálculo de esas dos herramientas entenderás mejor la diferencia entre \"gratis\" (CBC) y \"de pago\" (Gurobi)!!!\n",
        "\n",
        "Comencemos ahora con problemas más serios, de más utilidad."
      ]
    },
    {
      "cell_type": "markdown",
      "metadata": {
        "id": "8rbIq5skxSIX"
      },
      "source": [
        "# Problemas de Asignación"
      ]
    },
    {
      "cell_type": "markdown",
      "metadata": {
        "id": "EPckcxHY2xUf"
      },
      "source": [
        "Imaginemos tener 6 trabajadores y 4 tareas, y conocer el costo de $c_{ij}$ de que el trabajador $i$ esté asignado a la tarea $j$. Se busca asignar un trabajador a cada tarea, y que ningún trabajador esté asignado a más de una máquina, de manera que el coste total sea lo menor posible.\n"
      ]
    },
    {
      "cell_type": "code",
      "execution_count": 56,
      "metadata": {
        "id": "xtr_eIrrkrII"
      },
      "outputs": [],
      "source": [
        "# Matriz de costes. Podemos generar costes aleatorios y de manera automática cambiando\n",
        "# el valor individual de cada elemento por la expresión: 'random.randint([valor mínimo],[valor máximo])'\n",
        "import random\n",
        "\n",
        "cost  =  [[ random.randint(1,100),  random.randint(1,100),  random.randint(1,100),  random.randint(1,100)],\n",
        "          [ random.randint(1,100),  random.randint(1,100),  random.randint(1,100),  random.randint(1,100)],\n",
        "          [ random.randint(1,100),  random.randint(1,100),  random.randint(1,100),  random.randint(1,100)],\n",
        "          [ random.randint(1,100),  random.randint(1,100),  random.randint(1,100),  random.randint(1,100)],\n",
        "          [ random.randint(1,100),  random.randint(1,100),  random.randint(1,100),  random.randint(1,100)],\n",
        "          [ random.randint(1,100),  random.randint(1,100),  random.randint(1,100),  random.randint(1,100)]]  \n",
        "\n",
        "#cost  =  [[ 90,  76,  75,  70],\n",
        "#          [ 35,  85,  55,  65],\n",
        "#          [125,  95,  90, 105],\n",
        "#          [ 45, 110,  95, 115],\n",
        "#          [ 60, 105,  80,  75],\n",
        "#          [ 45,  65, 110,  95]]     # Matriz de coste de cada tarea por cada trabajador\n",
        "workers = range( len(cost) )        # Array de número de trabajadores => len(cost) significa la longitud (nº de elementos) en el array: 6 arrays\n",
        "tasks   = range( len(cost[1]) )     # Array de número de tareas => len(cost[1]) significa la longitud (nº de elementos) en un array dentro de un array: 4 elementos\n",
        "EPS     = 0.0001"
      ]
    },
    {
      "cell_type": "code",
      "execution_count": 57,
      "metadata": {},
      "outputs": [
        {
          "name": "stdout",
          "output_type": "stream",
          "text": [
            "Requirement already satisfied: ortools in c:\\users\\kephril\\appdata\\local\\programs\\python\\python310\\lib\\site-packages (9.5.2237)\n",
            "Requirement already satisfied: protobuf>=4.21.5 in c:\\users\\kephril\\appdata\\local\\programs\\python\\python310\\lib\\site-packages (from ortools) (4.21.12)\n",
            "Requirement already satisfied: absl-py>=0.13 in c:\\users\\kephril\\appdata\\local\\programs\\python\\python310\\lib\\site-packages (from ortools) (1.3.0)\n",
            "Requirement already satisfied: numpy>=1.13.3 in c:\\users\\kephril\\appdata\\local\\programs\\python\\python310\\lib\\site-packages (from ortools) (1.24.0)\n"
          ]
        },
        {
          "name": "stderr",
          "output_type": "stream",
          "text": [
            "\n",
            "[notice] A new release of pip available: 22.2.2 -> 22.3.1\n",
            "[notice] To update, run: python.exe -m pip install --upgrade pip\n"
          ]
        }
      ],
      "source": [
        "!pip install ortools"
      ]
    },
    {
      "cell_type": "code",
      "execution_count": 58,
      "metadata": {
        "id": "cQ8-xexGJKfc",
        "outputId": "fbcb1147-b332-46db-bfad-22fbc6281738"
      },
      "outputs": [
        {
          "name": "stdout",
          "output_type": "stream",
          "text": [
            "Costo total =  67.0  in  0.005 seconds\n",
            "Trabajador 1 asignado a la tarea 3.  Costo = 22\n",
            "Trabajador 2 asignado a la tarea 2.  Costo = 11\n",
            "Trabajador 4 asignado a la tarea 1.  Costo = 32\n",
            "Trabajador 5 asignado a la tarea 0.  Costo = 2\n"
          ]
        }
      ],
      "source": [
        "from ortools.linear_solver import pywraplp\n",
        "# Inicialización de la variable donde almacenar la solución.\n",
        "solver = pywraplp.Solver('ProblemaAsignacion2dimensional', pywraplp.Solver.CBC_MIXED_INTEGER_PROGRAMMING)   \n",
        "\n",
        "x = { (i,j) : solver.BoolVar('x[%i, %i]' % (i, j)) for i in workers for j in tasks }\n",
        "\n",
        "# Función Objetivo: minimar el sumatorio de los costes de cada tarea realizada por cada trabajador.\n",
        "solver.Minimize(  solver.Sum(   cost[i][j] * x[i,j]      for i in workers   for j in tasks   )   )\n",
        "[ solver.Add(solver.Sum(x[i,j] for j in tasks) <= 1)  for i in workers ]    # Restricción de que cada Trabajador no puede realizar más de una tarea.\n",
        "[ solver.Add(solver.Sum(x[i,j] for i in workers) >= 1)  for j in tasks ]    # Restricción de que cada Tarea debe poder ser realizada por al menos 1 trabajador. \n",
        "                                                                            # (De estos candidatos se elige el más óptimo después)\n",
        "\n",
        "solver.Solve()        # Resolvemos\n",
        "# print('x[%i, %i]' % (x[1,1]))   # Intento de imprimir el valor X que son \n",
        "print('Costo total = ', solver.Objective().Value() ,\" in \", solver.WallTime()/1000, \"seconds\")\n",
        "for i in workers:\n",
        "    for j in tasks:\n",
        "        if x[i, j].solution_value() > EPS :   # Si el valor de la solución, es decir, el costo de realiza la tarea es mayor 0.0001\n",
        "                                              # significa que la tarea óptima es realizada.\n",
        "            print('Trabajador %d asignado a la tarea %d.  Costo = %d' % (i,j,cost[i][j]))"
      ]
    },
    {
      "cell_type": "markdown",
      "metadata": {
        "id": "VUCKuDfB5VNf"
      },
      "source": [
        "Si los trabajadores estuviesen en dos equipos (por ejemplo, pares e impares) la solución óptima obtenida usa más trabajadores de un equipo que del otro. Podría tener sentido que el problema real también desee una solución donde se elijan exactamente 2 trabajadores de cada equipo. Para ello hay que introducir nuevas restricciones en el modelo matemático:"
      ]
    },
    {
      "cell_type": "code",
      "execution_count": 59,
      "metadata": {
        "id": "LJLBepm44aAX"
      },
      "outputs": [
        {
          "name": "stdout",
          "output_type": "stream",
          "text": [
            "Costo total =  67.0  in  5.491 seconds\n",
            "Trabajador 1 asignado a la tarea 3.  Costo = 22\n",
            "Trabajador 2 asignado a la tarea 2.  Costo = 11\n",
            "Trabajador 4 asignado a la tarea 1.  Costo = 32\n",
            "Trabajador 5 asignado a la tarea 0.  Costo = 2\n"
          ]
        }
      ],
      "source": [
        "team1 = [0, 2, 4]\n",
        "team2 = [1, 3, 5]\n",
        "\n",
        "solver.Add(solver.Sum(x[i, j] for i in team1 for j in tasks) <= 2)    # Restriccion de que por cada tarea como máximo la realicen 2 integrantes de un equipo.\n",
        "solver.Add(solver.Sum(x[i, j] for i in team2 for j in tasks) <= 2)    # Misma restricción para el equipo 2.\n",
        "\n",
        "solver.Solve()\n",
        "\n",
        "print('Costo total = ', solver.Objective().Value() ,\" in \", solver.WallTime()/1000, \"seconds\")\n",
        "for i in workers:\n",
        "    for j in tasks:\n",
        "        if x[i, j].solution_value() > 0:                              # Solo hemos generado la solución óptima\n",
        "            print('Trabajador %d asignado a la tarea %d.  Costo = %d' % (i,j,cost[i][j]))"
      ]
    },
    {
      "attachments": {},
      "cell_type": "markdown",
      "metadata": {
        "id": "nFnQmZKr8H1l"
      },
      "source": [
        "Como era de esperar, la nueva solución óptima cuesta más que la anterior porque debe cumplir además las nuevas desigualdades.\n",
        "\n",
        "Costo total individual = 235 Costo total por equipos = 250"
      ]
    },
    {
      "cell_type": "markdown",
      "metadata": {
        "id": "M66L5ROfMh73"
      },
      "source": [
        "## 3-dimensional"
      ]
    },
    {
      "cell_type": "markdown",
      "metadata": {
        "id": "caeNLQwBWjey"
      },
      "source": [
        "Terminemos esta sección con un problema de asignación más complejo, conocido como **problema de asignación 3-dimensional**. Pensemos ahora que tenemos 5 profesores, 5 asignaturas y 5 aulas, y queremos asignar un profesor a cada asignatura en un aula, de modo que cada profesor da 1 asignatura en 1 aula, cada asignatura la da 1 profesor en 1 aula, y cada aula imparte 1 asignatura por 1 profesor. Todo queremos que se realice a costo total mínimo. Concretamente se llama problema de asignación 3-dimensional **axial** porque como veremos su modelo matemático se basa en restricciones que tienen 1 índice libre, en contraposición a otro problema que se llama de asignación 3-dimensional **planar** donde su modelo se basa en restricciones que tienen 2 indices libres. Vemos primero el modelo para el problema axial planteado, es decir, asignar profesores, asignaturas y aulas:"
      ]
    },
    {
      "cell_type": "code",
      "execution_count": 60,
      "metadata": {
        "id": "02U2AuGT048g"
      },
      "outputs": [],
      "source": [
        "import random  \n",
        "dimension = 10\n",
        "opciones  = range(dimension)       \n",
        "#Podemos cambiar la semilla para que genere problemas nuevos\n",
        "#random.seed(12345)\n",
        "random.seed(54321)  \n",
        "cost      = [[[random.randint(1,100) for i in opciones] for j in opciones] for k in opciones] # Generación aleatoria de costes\n",
        "EPS       = 0.001"
      ]
    },
    {
      "cell_type": "code",
      "execution_count": 61,
      "metadata": {
        "id": "WxexrgSTX2q6",
        "outputId": "891814f4-f597-4d52-af7a-6369878e610b"
      },
      "outputs": [
        {
          "name": "stdout",
          "output_type": "stream",
          "text": [
            "Costo total =  37.0  in  0.117 seconds\n",
            "Prof 0 con asignatura 3 en aula 8.  Costo = 6\n",
            "Prof 1 con asignatura 9 en aula 1.  Costo = 2\n",
            "Prof 2 con asignatura 4 en aula 4.  Costo = 3\n",
            "Prof 3 con asignatura 7 en aula 0.  Costo = 4\n",
            "Prof 4 con asignatura 1 en aula 9.  Costo = 1\n",
            "Prof 5 con asignatura 2 en aula 3.  Costo = 4\n",
            "Prof 6 con asignatura 0 en aula 7.  Costo = 5\n",
            "Prof 7 con asignatura 5 en aula 2.  Costo = 6\n",
            "Prof 8 con asignatura 6 en aula 5.  Costo = 3\n",
            "Prof 9 con asignatura 8 en aula 6.  Costo = 3\n"
          ]
        }
      ],
      "source": [
        "solver = pywraplp.Solver('3APaxial', pywraplp.Solver.CBC_MIXED_INTEGER_PROGRAMMING)\n",
        "\n",
        "x = { (i,j,k) : solver.BoolVar('x[%i,%i,%i]' % (i,j,k)) for i in opciones for j in opciones for k in opciones }\n",
        "\n",
        "# Función objetivo: \n",
        "        \n",
        "solver.Minimize( solver.Sum(cost[i][j][k] * x[i,j,k] for i in opciones for j in opciones for k in opciones))\n",
        "\n",
        "# Intento de añadir una restricción fija al modelo:\n",
        "# La restricción consiste en imponer que: \n",
        "# el Profesor 0 imparta la Asignatura 0 en el Aula 0, siempre. \n",
        "#[ solver.Add(x[0,0,0] = 8)]\n",
        "\n",
        "[ solver.Add(solver.Sum(x[i,j,k] for j in opciones for k in opciones) == 1) for i in opciones ]\n",
        "[ solver.Add(solver.Sum(x[i,j,k] for i in opciones for k in opciones) == 1) for j in opciones ]\n",
        "[ solver.Add(solver.Sum(x[i,j,k] for i in opciones for j in opciones) == 1) for k in opciones ]\n",
        "    \n",
        "sol = solver.Solve()\n",
        "\n",
        "print('Costo total = ', solver.Objective().Value() ,\" in \", solver.WallTime()/1000, \"seconds\")\n",
        "for i in opciones:\n",
        "    for j in opciones:\n",
        "        for k in opciones:\n",
        "            if x[i,j,k].solution_value() > EPS :\n",
        "                print('Prof %d con asignatura %d en aula %d.  Costo = %d' % (i,j,k,cost[i][j][k]))"
      ]
    },
    {
      "cell_type": "markdown",
      "metadata": {
        "id": "evhjAqqida0W"
      },
      "source": [
        "El modelo del problema de asignación 3-dimensional **planar** es el siguiente. Nótese que **no** es un modelo alternativo para el problema de asignación de profesores, asignatura y aulas. Es el modelo de otro problema diferente. Por eso la solución óptima del modelo anterior y del modelo siguiente no coinciden, ni tienen relación alguna. Si tienes curiosidad por conocer el problema asociado a este otro modelo, te sugiero que estudies el concepto de [Cuadrado Latino](https://es.wikipedia.org/wiki/Cuadrado_latino)."
      ]
    },
    {
      "cell_type": "code",
      "execution_count": 62,
      "metadata": {
        "id": "g8_VJgId-5D0",
        "outputId": "2be5ec06-5439-4ac8-99d3-1f0aecebebd1"
      },
      "outputs": [
        {
          "name": "stdout",
          "output_type": "stream",
          "text": [
            "Costo total =  1962.0  in  17.7 seconds\n",
            "Indices: 0  0  1.  Costo = 9\n",
            "Indices: 0  1  7.  Costo = 4\n",
            "Indices: 0  2  0.  Costo = 15\n",
            "Indices: 0  3  8.  Costo = 6\n",
            "Indices: 0  4  6.  Costo = 41\n",
            "Indices: 0  5  2.  Costo = 12\n",
            "Indices: 0  6  9.  Costo = 8\n",
            "Indices: 0  7  5.  Costo = 34\n",
            "Indices: 0  8  4.  Costo = 6\n",
            "Indices: 0  9  3.  Costo = 11\n",
            "Indices: 1  0  4.  Costo = 37\n",
            "Indices: 1  1  8.  Costo = 9\n",
            "Indices: 1  2  5.  Costo = 52\n",
            "Indices: 1  3  2.  Costo = 7\n",
            "Indices: 1  4  3.  Costo = 27\n",
            "Indices: 1  5  9.  Costo = 15\n",
            "Indices: 1  6  6.  Costo = 19\n",
            "Indices: 1  7  0.  Costo = 8\n",
            "Indices: 1  8  7.  Costo = 41\n",
            "Indices: 1  9  1.  Costo = 2\n",
            "Indices: 2  0  3.  Costo = 69\n",
            "Indices: 2  1  1.  Costo = 13\n",
            "Indices: 2  2  8.  Costo = 42\n",
            "Indices: 2  3  9.  Costo = 12\n",
            "Indices: 2  4  4.  Costo = 3\n",
            "Indices: 2  5  7.  Costo = 61\n",
            "Indices: 2  6  0.  Costo = 1\n",
            "Indices: 2  7  6.  Costo = 1\n",
            "Indices: 2  8  2.  Costo = 7\n",
            "Indices: 2  9  5.  Costo = 16\n",
            "Indices: 3  0  6.  Costo = 26\n",
            "Indices: 3  1  9.  Costo = 24\n",
            "Indices: 3  2  4.  Costo = 1\n",
            "Indices: 3  3  0.  Costo = 25\n",
            "Indices: 3  4  8.  Costo = 10\n",
            "Indices: 3  5  5.  Costo = 17\n",
            "Indices: 3  6  2.  Costo = 6\n",
            "Indices: 3  7  3.  Costo = 8\n",
            "Indices: 3  8  1.  Costo = 28\n",
            "Indices: 3  9  7.  Costo = 19\n",
            "Indices: 4  0  0.  Costo = 26\n",
            "Indices: 4  1  6.  Costo = 13\n",
            "Indices: 4  2  3.  Costo = 24\n",
            "Indices: 4  3  7.  Costo = 12\n",
            "Indices: 4  4  1.  Costo = 10\n",
            "Indices: 4  5  4.  Costo = 15\n",
            "Indices: 4  6  5.  Costo = 27\n",
            "Indices: 4  7  9.  Costo = 20\n",
            "Indices: 4  8  8.  Costo = 19\n",
            "Indices: 4  9  2.  Costo = 16\n",
            "Indices: 5  0  5.  Costo = 4\n",
            "Indices: 5  1  3.  Costo = 38\n",
            "Indices: 5  2  9.  Costo = 3\n",
            "Indices: 5  3  1.  Costo = 59\n",
            "Indices: 5  4  2.  Costo = 28\n",
            "Indices: 5  5  6.  Costo = 6\n",
            "Indices: 5  6  8.  Costo = 17\n",
            "Indices: 5  7  7.  Costo = 46\n",
            "Indices: 5  8  0.  Costo = 45\n",
            "Indices: 5  9  4.  Costo = 4\n",
            "Indices: 6  0  7.  Costo = 5\n",
            "Indices: 6  1  4.  Costo = 6\n",
            "Indices: 6  2  2.  Costo = 22\n",
            "Indices: 6  3  5.  Costo = 29\n",
            "Indices: 6  4  0.  Costo = 10\n",
            "Indices: 6  5  8.  Costo = 48\n",
            "Indices: 6  6  3.  Costo = 42\n",
            "Indices: 6  7  1.  Costo = 13\n",
            "Indices: 6  8  9.  Costo = 5\n",
            "Indices: 6  9  6.  Costo = 44\n",
            "Indices: 7  0  2.  Costo = 19\n",
            "Indices: 7  1  0.  Costo = 19\n",
            "Indices: 7  2  6.  Costo = 16\n",
            "Indices: 7  3  4.  Costo = 52\n",
            "Indices: 7  4  5.  Costo = 42\n",
            "Indices: 7  5  1.  Costo = 3\n",
            "Indices: 7  6  7.  Costo = 30\n",
            "Indices: 7  7  8.  Costo = 15\n",
            "Indices: 7  8  3.  Costo = 21\n",
            "Indices: 7  9  9.  Costo = 16\n",
            "Indices: 8  0  8.  Costo = 19\n",
            "Indices: 8  1  2.  Costo = 8\n",
            "Indices: 8  2  7.  Costo = 19\n",
            "Indices: 8  3  6.  Costo = 9\n",
            "Indices: 8  4  9.  Costo = 8\n",
            "Indices: 8  5  3.  Costo = 10\n",
            "Indices: 8  6  1.  Costo = 15\n",
            "Indices: 8  7  4.  Costo = 13\n",
            "Indices: 8  8  5.  Costo = 30\n",
            "Indices: 8  9  0.  Costo = 13\n",
            "Indices: 9  0  9.  Costo = 14\n",
            "Indices: 9  1  5.  Costo = 32\n",
            "Indices: 9  2  1.  Costo = 35\n",
            "Indices: 9  3  3.  Costo = 6\n",
            "Indices: 9  4  7.  Costo = 18\n",
            "Indices: 9  5  0.  Costo = 10\n",
            "Indices: 9  6  4.  Costo = 4\n",
            "Indices: 9  7  2.  Costo = 9\n",
            "Indices: 9  8  6.  Costo = 3\n",
            "Indices: 9  9  8.  Costo = 46\n"
          ]
        }
      ],
      "source": [
        "solver = pywraplp.Solver('3APplanar', pywraplp.Solver.CBC_MIXED_INTEGER_PROGRAMMING)\n",
        "\n",
        "x = { (i,j,k) : solver.BoolVar('x[%i,%i,%i]' % (i,j,k)) for i in opciones for j in opciones for k in opciones }\n",
        "            \n",
        "solver.Minimize( solver.Sum(cost[i][j][k] * x[i,j,k] for i in opciones for j in opciones for k in opciones) )\n",
        "\n",
        "[ solver.Add(solver.Sum(x[i,j,k] for k in opciones) == 1) for i in opciones for j in opciones ]\n",
        "[ solver.Add(solver.Sum(x[i,j,k] for j in opciones) == 1) for i in opciones for k in opciones ]\n",
        "[ solver.Add(solver.Sum(x[i,j,k] for i in opciones) == 1) for j in opciones for k in opciones ]\n",
        "    \n",
        "solver.Solve()\n",
        "\n",
        "print('Costo total = ', solver.Objective().Value() ,\" in \", solver.WallTime()/1000, \"seconds\")\n",
        "for i in opciones:\n",
        "    for j in opciones:\n",
        "        for k in opciones:\n",
        "            if x[i,j,k].solution_value() > EPS :\n",
        "                print('Indices: %d  %d  %d.  Costo = %d' % (i,j,k,cost[i][j][k]))"
      ]
    },
    {
      "cell_type": "markdown",
      "metadata": {
        "id": "pnZerI9p048w"
      },
      "source": [
        "Hasta ahora hemos estado usando el software gratuito CBC a través de la herramienta OR-tools de Google. Para resolverlo con Gurobi (recuerda que necesitas licencia sobre el ordenador en el que lo quieres resolver) la sintaxis es:"
      ]
    },
    {
      "cell_type": "code",
      "execution_count": 63,
      "metadata": {},
      "outputs": [],
      "source": [
        "from gurobipy import *"
      ]
    },
    {
      "cell_type": "markdown",
      "metadata": {
        "id": "evhjAqqida0W"
      },
      "source": [
        "El modelo del problema de asignación 3-dimensional **planar** es el siguiente. Nótese que **no** es un modelo alternativo para el problema de asignación de profesores, asignatura y aulas. Es el modelo de otro problema diferente. Por eso la solución óptima del modelo anterior y del modelo siguiente no coinciden, ni tienen relación alguna. Si tienes curiosidad por conocer el problema asociado a este otro modelo, te sugiero que estudies el concepto de [Cuadrado Latino](https://es.wikipedia.org/wiki/Cuadrado_latino)."
      ]
    },
    {
      "cell_type": "code",
      "execution_count": 64,
      "metadata": {
        "id": "g8_VJgId-5D0",
        "outputId": "2be5ec06-5439-4ac8-99d3-1f0aecebebd1"
      },
      "outputs": [
        {
          "name": "stdout",
          "output_type": "stream",
          "text": [
            "Costo total =  1962.0  in  14.652 seconds\n",
            "Indices: 0  0  1.  Costo = 9\n",
            "Indices: 0  1  7.  Costo = 4\n",
            "Indices: 0  2  0.  Costo = 15\n",
            "Indices: 0  3  8.  Costo = 6\n",
            "Indices: 0  4  6.  Costo = 41\n",
            "Indices: 0  5  2.  Costo = 12\n",
            "Indices: 0  6  9.  Costo = 8\n",
            "Indices: 0  7  5.  Costo = 34\n",
            "Indices: 0  8  4.  Costo = 6\n",
            "Indices: 0  9  3.  Costo = 11\n",
            "Indices: 1  0  4.  Costo = 37\n",
            "Indices: 1  1  8.  Costo = 9\n",
            "Indices: 1  2  5.  Costo = 52\n",
            "Indices: 1  3  2.  Costo = 7\n",
            "Indices: 1  4  3.  Costo = 27\n",
            "Indices: 1  5  9.  Costo = 15\n",
            "Indices: 1  6  6.  Costo = 19\n",
            "Indices: 1  7  0.  Costo = 8\n",
            "Indices: 1  8  7.  Costo = 41\n",
            "Indices: 1  9  1.  Costo = 2\n",
            "Indices: 2  0  3.  Costo = 69\n",
            "Indices: 2  1  1.  Costo = 13\n",
            "Indices: 2  2  8.  Costo = 42\n",
            "Indices: 2  3  9.  Costo = 12\n",
            "Indices: 2  4  4.  Costo = 3\n",
            "Indices: 2  5  7.  Costo = 61\n",
            "Indices: 2  6  0.  Costo = 1\n",
            "Indices: 2  7  6.  Costo = 1\n",
            "Indices: 2  8  2.  Costo = 7\n",
            "Indices: 2  9  5.  Costo = 16\n",
            "Indices: 3  0  6.  Costo = 26\n",
            "Indices: 3  1  9.  Costo = 24\n",
            "Indices: 3  2  4.  Costo = 1\n",
            "Indices: 3  3  0.  Costo = 25\n",
            "Indices: 3  4  8.  Costo = 10\n",
            "Indices: 3  5  5.  Costo = 17\n",
            "Indices: 3  6  2.  Costo = 6\n",
            "Indices: 3  7  3.  Costo = 8\n",
            "Indices: 3  8  1.  Costo = 28\n",
            "Indices: 3  9  7.  Costo = 19\n",
            "Indices: 4  0  0.  Costo = 26\n",
            "Indices: 4  1  6.  Costo = 13\n",
            "Indices: 4  2  3.  Costo = 24\n",
            "Indices: 4  3  7.  Costo = 12\n",
            "Indices: 4  4  1.  Costo = 10\n",
            "Indices: 4  5  4.  Costo = 15\n",
            "Indices: 4  6  5.  Costo = 27\n",
            "Indices: 4  7  9.  Costo = 20\n",
            "Indices: 4  8  8.  Costo = 19\n",
            "Indices: 4  9  2.  Costo = 16\n",
            "Indices: 5  0  5.  Costo = 4\n",
            "Indices: 5  1  3.  Costo = 38\n",
            "Indices: 5  2  9.  Costo = 3\n",
            "Indices: 5  3  1.  Costo = 59\n",
            "Indices: 5  4  2.  Costo = 28\n",
            "Indices: 5  5  6.  Costo = 6\n",
            "Indices: 5  6  8.  Costo = 17\n",
            "Indices: 5  7  7.  Costo = 46\n",
            "Indices: 5  8  0.  Costo = 45\n",
            "Indices: 5  9  4.  Costo = 4\n",
            "Indices: 6  0  7.  Costo = 5\n",
            "Indices: 6  1  4.  Costo = 6\n",
            "Indices: 6  2  2.  Costo = 22\n",
            "Indices: 6  3  5.  Costo = 29\n",
            "Indices: 6  4  0.  Costo = 10\n",
            "Indices: 6  5  8.  Costo = 48\n",
            "Indices: 6  6  3.  Costo = 42\n",
            "Indices: 6  7  1.  Costo = 13\n",
            "Indices: 6  8  9.  Costo = 5\n",
            "Indices: 6  9  6.  Costo = 44\n",
            "Indices: 7  0  2.  Costo = 19\n",
            "Indices: 7  1  0.  Costo = 19\n",
            "Indices: 7  2  6.  Costo = 16\n",
            "Indices: 7  3  4.  Costo = 52\n",
            "Indices: 7  4  5.  Costo = 42\n",
            "Indices: 7  5  1.  Costo = 3\n",
            "Indices: 7  6  7.  Costo = 30\n",
            "Indices: 7  7  8.  Costo = 15\n",
            "Indices: 7  8  3.  Costo = 21\n",
            "Indices: 7  9  9.  Costo = 16\n",
            "Indices: 8  0  8.  Costo = 19\n",
            "Indices: 8  1  2.  Costo = 8\n",
            "Indices: 8  2  7.  Costo = 19\n",
            "Indices: 8  3  6.  Costo = 9\n",
            "Indices: 8  4  9.  Costo = 8\n",
            "Indices: 8  5  3.  Costo = 10\n",
            "Indices: 8  6  1.  Costo = 15\n",
            "Indices: 8  7  4.  Costo = 13\n",
            "Indices: 8  8  5.  Costo = 30\n",
            "Indices: 8  9  0.  Costo = 13\n",
            "Indices: 9  0  9.  Costo = 14\n",
            "Indices: 9  1  5.  Costo = 32\n",
            "Indices: 9  2  1.  Costo = 35\n",
            "Indices: 9  3  3.  Costo = 6\n",
            "Indices: 9  4  7.  Costo = 18\n",
            "Indices: 9  5  0.  Costo = 10\n",
            "Indices: 9  6  4.  Costo = 4\n",
            "Indices: 9  7  2.  Costo = 9\n",
            "Indices: 9  8  6.  Costo = 3\n",
            "Indices: 9  9  8.  Costo = 46\n"
          ]
        }
      ],
      "source": [
        "solver = pywraplp.Solver('3APplanar', pywraplp.Solver.CBC_MIXED_INTEGER_PROGRAMMING)\n",
        "\n",
        "x = { (i,j,k) : solver.BoolVar('x[%i,%i,%i]' % (i,j,k)) for i in opciones for j in opciones for k in opciones }\n",
        "            \n",
        "solver.Minimize( solver.Sum(cost[i][j][k] * x[i,j,k] for i in opciones for j in opciones for k in opciones) )\n",
        "\n",
        "[ solver.Add(solver.Sum(x[i,j,k] for k in opciones) == 1) for i in opciones for j in opciones ]\n",
        "[ solver.Add(solver.Sum(x[i,j,k] for j in opciones) == 1) for i in opciones for k in opciones ]\n",
        "[ solver.Add(solver.Sum(x[i,j,k] for i in opciones) == 1) for j in opciones for k in opciones ]\n",
        "    \n",
        "solver.Solve()\n",
        "\n",
        "print('Costo total = ', solver.Objective().Value() ,\" in \", solver.WallTime()/1000, \"seconds\")\n",
        "for i in opciones:\n",
        "    for j in opciones:\n",
        "        for k in opciones:\n",
        "            if x[i,j,k].solution_value() > EPS :\n",
        "                print('Indices: %d  %d  %d.  Costo = %d' % (i,j,k,cost[i][j][k]))"
      ]
    },
    {
      "cell_type": "markdown",
      "metadata": {
        "id": "pnZerI9p048w"
      },
      "source": [
        "Hasta ahora hemos estado usando el software gratuito CBC a través de la herramienta OR-tools de Google. Para resolverlo con Gurobi (recuerda que necesitas licencia sobre el ordenador en el que lo quieres resolver) la sintaxis es:"
      ]
    },
    {
      "cell_type": "code",
      "execution_count": 65,
      "metadata": {},
      "outputs": [],
      "source": [
        "from gurobipy import *"
      ]
    },
    {
      "cell_type": "code",
      "execution_count": 66,
      "metadata": {
        "id": "g4yOlHDl048y"
      },
      "outputs": [
        {
          "name": "stdout",
          "output_type": "stream",
          "text": [
            "Gurobi Optimizer version 10.0.0 build v10.0.0rc2 (win64)\n",
            "\n",
            "CPU model: Intel(R) Core(TM) i7-8750H CPU @ 2.20GHz, instruction set [SSE2|AVX|AVX2]\n",
            "Thread count: 6 physical cores, 12 logical processors, using up to 12 threads\n",
            "\n",
            "Optimize a model with 30 rows, 1000 columns and 3000 nonzeros\n",
            "Model fingerprint: 0x18768ebb\n",
            "Variable types: 0 continuous, 1000 integer (1000 binary)\n",
            "Coefficient statistics:\n",
            "  Matrix range     [1e+00, 1e+00]\n",
            "  Objective range  [1e+00, 1e+02]\n",
            "  Bounds range     [1e+00, 1e+00]\n",
            "  RHS range        [1e+00, 1e+00]\n",
            "Found heuristic solution: objective 433.0000000\n",
            "Presolve time: 0.01s\n",
            "Presolved: 30 rows, 1000 columns, 3000 nonzeros\n",
            "Variable types: 0 continuous, 1000 integer (1000 binary)\n",
            "\n",
            "Root relaxation: objective 3.600000e+01, 40 iterations, 0.00 seconds (0.00 work units)\n",
            "\n",
            "    Nodes    |    Current Node    |     Objective Bounds      |     Work\n",
            " Expl Unexpl |  Obj  Depth IntInf | Incumbent    BestBd   Gap | It/Node Time\n",
            "\n",
            "     0     0   36.00000    0   25  433.00000   36.00000  91.7%     -    0s\n",
            "H    0     0                      37.0000000   36.00000  2.70%     -    0s\n",
            "\n",
            "Cutting planes:\n",
            "  Clique: 2\n",
            "  Mod-K: 2\n",
            "\n",
            "Explored 1 nodes (40 simplex iterations) in 0.06 seconds (0.01 work units)\n",
            "Thread count was 12 (of 12 available processors)\n",
            "\n",
            "Solution count 2: 37 433 \n",
            "\n",
            "Optimal solution found (tolerance 1.00e-04)\n",
            "Best objective 3.700000000000e+01, best bound 3.700000000000e+01, gap 0.0000%\n",
            "Costo total = 37  in =  0.06800007820129395  seconds\n",
            "Indices: 0  3  8.  Costo = 6\n",
            "Indices: 1  9  1.  Costo = 2\n",
            "Indices: 2  4  4.  Costo = 3\n",
            "Indices: 3  7  0.  Costo = 4\n",
            "Indices: 4  1  9.  Costo = 1\n",
            "Indices: 5  2  3.  Costo = 4\n",
            "Indices: 6  0  7.  Costo = 5\n",
            "Indices: 7  5  2.  Costo = 6\n",
            "Indices: 8  6  5.  Costo = 3\n",
            "Indices: 9  8  6.  Costo = 3\n"
          ]
        }
      ],
      "source": [
        "modelo = Model(\"AP3axial\")\n",
        "# Resolución del modelo usando Gurobi\n",
        "# La sintaxis es un poco diferente al anterior, pero se puede entender con facilidad.\n",
        "\n",
        "x = { (i,j,k) : modelo.addVar(vtype=GRB.BINARY, name=\"x[%i,%i,%i]\" % (i,j,k)) for i in opciones for j in opciones for k in opciones }\n",
        "            \n",
        "modelo.modelSense = GRB.MINIMIZE\n",
        "modelo.setObjective( quicksum(cost[i][j][k] * x[i,j,k] for i in opciones for j in opciones for k in opciones) )\n",
        "    \n",
        "[ modelo.addConstr( quicksum(x[i,j,k] for j in opciones for k in opciones) == 1 ) for i in opciones ]\n",
        "[ modelo.addConstr( quicksum(x[i,j,k] for i in opciones for k in opciones) == 1 ) for j in opciones ]\n",
        "[ modelo.addConstr( quicksum(x[i,j,k] for i in opciones for j in opciones) == 1 ) for k in opciones ]\n",
        "                    \n",
        "modelo.optimize()\n",
        "\n",
        "# Sin embargo, por la manera en que se imprime el resultado, \n",
        "# se puede entender que resuelven el problema usando unas estructuras de datos similares.              \n",
        "print('Costo total = %g' % modelo.objVal,' in = ',modelo.Runtime, \" seconds\")\n",
        "for i in opciones:\n",
        "    for j in opciones:\n",
        "        for k in opciones:\n",
        "            if x[i,j,k].x > EPS:\n",
        "                print('Indices: %d  %d  %d.  Costo = %d' % (i,j,k,cost[i][j][k]))"
      ]
    },
    {
      "cell_type": "code",
      "execution_count": 67,
      "metadata": {},
      "outputs": [],
      "source": [
        "from gurobipy import *"
      ]
    },
    {
      "cell_type": "code",
      "execution_count": 69,
      "metadata": {
        "id": "l9LQ6TV0Mh7-"
      },
      "outputs": [
        {
          "name": "stdout",
          "output_type": "stream",
          "text": [
            "Gurobi Optimizer version 10.0.0 build v10.0.0rc2 (win64)\n",
            "\n",
            "CPU model: Intel(R) Core(TM) i7-8750H CPU @ 2.20GHz, instruction set [SSE2|AVX|AVX2]\n",
            "Thread count: 6 physical cores, 12 logical processors, using up to 12 threads\n",
            "\n",
            "Optimize a model with 300 rows, 1000 columns and 3000 nonzeros\n",
            "Model fingerprint: 0x5d8e236e\n",
            "Variable types: 0 continuous, 1000 integer (1000 binary)\n",
            "Coefficient statistics:\n",
            "  Matrix range     [1e+00, 1e+00]\n",
            "  Objective range  [1e+00, 1e+02]\n",
            "  Bounds range     [1e+00, 1e+00]\n",
            "  RHS range        [1e+00, 1e+00]\n",
            "Presolve time: 0.01s\n",
            "Presolved: 300 rows, 1000 columns, 3000 nonzeros\n",
            "Variable types: 0 continuous, 1000 integer (1000 binary)\n",
            "\n",
            "Root relaxation: objective 1.888740e+03, 474 iterations, 0.01 seconds (0.01 work units)\n",
            "\n",
            "    Nodes    |    Current Node    |     Objective Bounds      |     Work\n",
            " Expl Unexpl |  Obj  Depth IntInf | Incumbent    BestBd   Gap | It/Node Time\n",
            "\n",
            "     0     0 1888.74016    0  239          - 1888.74016      -     -    0s\n",
            "H    0     0                    4974.0000000 1888.74016  62.0%     -    0s\n",
            "H    0     0                    2998.0000000 1888.74016  37.0%     -    0s\n",
            "H    0     0                    2969.0000000 1888.74016  36.4%     -    0s\n",
            "H    0     0                    2582.0000000 1893.91529  26.6%     -    0s\n",
            "H    0     0                    2066.0000000 1893.91529  8.33%     -    0s\n",
            "     0     0 1900.57003    0  247 2066.00000 1900.57003  8.01%     -    0s\n",
            "     0     0 1915.70091    0  259 2066.00000 1915.70091  7.27%     -    0s\n",
            "     0     0 1915.76812    0  259 2066.00000 1915.76812  7.27%     -    0s\n",
            "     0     2 1915.76812    0  259 2066.00000 1915.76812  7.27%     -    0s\n",
            "H  267   265                    2059.0000000 1915.76812  6.96%  41.6    0s\n",
            "*  522   352              15    2016.0000000 1915.76812  4.97%  39.2    0s\n",
            "*  640   331              20    2003.0000000 1927.64286  3.76%  37.3    1s\n",
            "H  763   319                    1997.0000000 1933.82781  3.16%  36.5    1s\n",
            "H 1027   331                    1995.0000000 1940.66879  2.72%  35.2    1s\n",
            "* 1302   340              16    1990.0000000 1947.82353  2.12%  34.2    1s\n",
            "* 1473   318              11    1975.0000000 1950.20000  1.26%  33.7    1s\n",
            "* 1739   189               7    1962.0000000 1956.68427  0.27%  32.4    1s\n",
            "\n",
            "Cutting planes:\n",
            "  Gomory: 3\n",
            "  Zero half: 6\n",
            "\n",
            "Explored 1817 nodes (58924 simplex iterations) in 2.00 seconds (1.26 work units)\n",
            "Thread count was 12 (of 12 available processors)\n",
            "\n",
            "Solution count 10: 1962 1975 1990 ... 2582\n",
            "\n",
            "Optimal solution found (tolerance 1.00e-04)\n",
            "Best objective 1.962000000000e+03, best bound 1.962000000000e+03, gap 0.0000%\n",
            "Costo total = 1962  in =  2.0290000438690186  seconds\n",
            "Indices: 0  0  1.  Costo = 9\n",
            "Indices: 0  1  7.  Costo = 4\n",
            "Indices: 0  2  0.  Costo = 15\n",
            "Indices: 0  3  8.  Costo = 6\n",
            "Indices: 0  4  6.  Costo = 41\n",
            "Indices: 0  5  2.  Costo = 12\n",
            "Indices: 0  6  9.  Costo = 8\n",
            "Indices: 0  7  5.  Costo = 34\n",
            "Indices: 0  8  4.  Costo = 6\n",
            "Indices: 0  9  3.  Costo = 11\n",
            "Indices: 1  0  4.  Costo = 37\n",
            "Indices: 1  1  8.  Costo = 9\n",
            "Indices: 1  2  5.  Costo = 52\n",
            "Indices: 1  3  2.  Costo = 7\n",
            "Indices: 1  4  3.  Costo = 27\n",
            "Indices: 1  5  9.  Costo = 15\n",
            "Indices: 1  6  6.  Costo = 19\n",
            "Indices: 1  7  0.  Costo = 8\n",
            "Indices: 1  8  7.  Costo = 41\n",
            "Indices: 1  9  1.  Costo = 2\n",
            "Indices: 2  0  3.  Costo = 69\n",
            "Indices: 2  1  1.  Costo = 13\n",
            "Indices: 2  2  8.  Costo = 42\n",
            "Indices: 2  3  9.  Costo = 12\n",
            "Indices: 2  4  4.  Costo = 3\n",
            "Indices: 2  5  7.  Costo = 61\n",
            "Indices: 2  6  0.  Costo = 1\n",
            "Indices: 2  7  6.  Costo = 1\n",
            "Indices: 2  8  2.  Costo = 7\n",
            "Indices: 2  9  5.  Costo = 16\n",
            "Indices: 3  0  6.  Costo = 26\n",
            "Indices: 3  1  9.  Costo = 24\n",
            "Indices: 3  2  4.  Costo = 1\n",
            "Indices: 3  3  0.  Costo = 25\n",
            "Indices: 3  4  8.  Costo = 10\n",
            "Indices: 3  5  5.  Costo = 17\n",
            "Indices: 3  6  2.  Costo = 6\n",
            "Indices: 3  7  3.  Costo = 8\n",
            "Indices: 3  8  1.  Costo = 28\n",
            "Indices: 3  9  7.  Costo = 19\n",
            "Indices: 4  0  0.  Costo = 26\n",
            "Indices: 4  1  6.  Costo = 13\n",
            "Indices: 4  2  3.  Costo = 24\n",
            "Indices: 4  3  7.  Costo = 12\n",
            "Indices: 4  4  1.  Costo = 10\n",
            "Indices: 4  5  4.  Costo = 15\n",
            "Indices: 4  6  5.  Costo = 27\n",
            "Indices: 4  7  9.  Costo = 20\n",
            "Indices: 4  8  8.  Costo = 19\n",
            "Indices: 4  9  2.  Costo = 16\n",
            "Indices: 5  0  5.  Costo = 4\n",
            "Indices: 5  1  3.  Costo = 38\n",
            "Indices: 5  2  9.  Costo = 3\n",
            "Indices: 5  3  1.  Costo = 59\n",
            "Indices: 5  4  2.  Costo = 28\n",
            "Indices: 5  5  6.  Costo = 6\n",
            "Indices: 5  6  8.  Costo = 17\n",
            "Indices: 5  7  7.  Costo = 46\n",
            "Indices: 5  8  0.  Costo = 45\n",
            "Indices: 5  9  4.  Costo = 4\n",
            "Indices: 6  0  7.  Costo = 5\n",
            "Indices: 6  1  4.  Costo = 6\n",
            "Indices: 6  2  2.  Costo = 22\n",
            "Indices: 6  3  5.  Costo = 29\n",
            "Indices: 6  4  0.  Costo = 10\n",
            "Indices: 6  5  8.  Costo = 48\n",
            "Indices: 6  6  3.  Costo = 42\n",
            "Indices: 6  7  1.  Costo = 13\n",
            "Indices: 6  8  9.  Costo = 5\n",
            "Indices: 6  9  6.  Costo = 44\n",
            "Indices: 7  0  2.  Costo = 19\n",
            "Indices: 7  1  0.  Costo = 19\n",
            "Indices: 7  2  6.  Costo = 16\n",
            "Indices: 7  3  4.  Costo = 52\n",
            "Indices: 7  4  5.  Costo = 42\n",
            "Indices: 7  5  1.  Costo = 3\n",
            "Indices: 7  6  7.  Costo = 30\n",
            "Indices: 7  7  8.  Costo = 15\n",
            "Indices: 7  8  3.  Costo = 21\n",
            "Indices: 7  9  9.  Costo = 16\n",
            "Indices: 8  0  8.  Costo = 19\n",
            "Indices: 8  1  2.  Costo = 8\n",
            "Indices: 8  2  7.  Costo = 19\n",
            "Indices: 8  3  6.  Costo = 9\n",
            "Indices: 8  4  9.  Costo = 8\n",
            "Indices: 8  5  3.  Costo = 10\n",
            "Indices: 8  6  1.  Costo = 15\n",
            "Indices: 8  7  4.  Costo = 13\n",
            "Indices: 8  8  5.  Costo = 30\n",
            "Indices: 8  9  0.  Costo = 13\n",
            "Indices: 9  0  9.  Costo = 14\n",
            "Indices: 9  1  5.  Costo = 32\n",
            "Indices: 9  2  1.  Costo = 35\n",
            "Indices: 9  3  3.  Costo = 6\n",
            "Indices: 9  4  7.  Costo = 18\n",
            "Indices: 9  5  0.  Costo = 10\n",
            "Indices: 9  6  4.  Costo = 4\n",
            "Indices: 9  7  2.  Costo = 9\n",
            "Indices: 9  8  6.  Costo = 3\n",
            "Indices: 9  9  8.  Costo = 46\n"
          ]
        }
      ],
      "source": [
        "modelo = Model(\"AP3planar\")\n",
        "\n",
        "# Esta vez resuelve el modelo Planar del problema de asignación.\n",
        "# Devuelve la misma solución, demostrando que la obtenida por ambos es la óptima.\n",
        "# Un detalle que he notado, y es que Gurobi resuelve el problema más rápido que la librería de Google.\n",
        "# Puede ser por las funciones 'quicksum' que tanto se usan.\n",
        "\n",
        "x = { (i,j,k) : modelo.addVar(vtype=GRB.BINARY, name=\"x[%i,%i,%i]\" % (i,j,k)) for i in opciones for j in opciones for k in opciones }\n",
        "\n",
        "modelo.modelSense = GRB.MINIMIZE\n",
        "modelo.setObjective( quicksum(cost[i][j][k] * x[i,j,k] for i in opciones for j in opciones for k in opciones) )\n",
        "    \n",
        "[ modelo.addConstr( quicksum(x[i,j,k] for k in opciones) == 1 ) for i in opciones for j in opciones ]\n",
        "[ modelo.addConstr( quicksum(x[i,j,k] for j in opciones) == 1 ) for i in opciones for k in opciones ]\n",
        "[ modelo.addConstr( quicksum(x[i,j,k] for i in opciones) == 1 ) for j in opciones for k in opciones ]\n",
        "                    \n",
        "modelo.optimize()\n",
        "                    \n",
        "print('Costo total = %g' % modelo.objVal,' in = ',modelo.Runtime, \" seconds\")\n",
        "for i in opciones:\n",
        "    for j in opciones:\n",
        "        for k in opciones:\n",
        "            if x[i,j,k].x > EPS:\n",
        "                print('Indices: %d  %d  %d.  Costo = %d' % (i,j,k,cost[i][j][k]))"
      ]
    },
    {
      "attachments": {},
      "cell_type": "markdown",
      "metadata": {},
      "source": [
        "## Conclusión"
      ]
    },
    {
      "attachments": {},
      "cell_type": "markdown",
      "metadata": {},
      "source": [
        "Como conclusión final comentar que estos problemas de asignación siempre son muy interesantes porque aplacan problemas de la vida real.\n",
        "\n",
        "Se puede comprobar como el propio código es muy flexible y permite muchas variaciones respecto al modelo, como los equipos o restricciones con datos fijos.\n",
        "\n",
        "Por otro lado, he digerido un poco más el funcionamiento del Cuadrado Latino, y debo decir que puede tener usos prácticos."
      ]
    }
  ],
  "metadata": {
    "colab": {
      "collapsed_sections": [],
      "name": "logistica.ipynb",
      "provenance": [],
      "toc_visible": true
    },
    "kernelspec": {
      "display_name": "Python 3",
      "language": "python",
      "name": "python3"
    },
    "language_info": {
      "codemirror_mode": {
        "name": "ipython",
        "version": 3
      },
      "file_extension": ".py",
      "mimetype": "text/x-python",
      "name": "python",
      "nbconvert_exporter": "python",
      "pygments_lexer": "ipython3",
      "version": "3.10.8"
    },
    "vscode": {
      "interpreter": {
        "hash": "6ca459c3085e5c13378bbe673892e7f77e16ed8067997e96f6e953a6aa4fd6e6"
      }
    }
  },
  "nbformat": 4,
  "nbformat_minor": 0
}
