{
  "cells": [
    {
      "attachments": {},
      "cell_type": "markdown",
      "metadata": {},
      "source": [
        "**Realizado por**: José Javier Díaz González\n",
        "\n",
        "**Correo**: alu0101128894@ull.edu.es"
      ]
    },
    {
      "cell_type": "markdown",
      "metadata": {
        "id": "BNV1ybGNXFPl"
      },
      "source": [
        "## **Single Allocation Capacitated Facility Location Problem (SACFLP)**"
      ]
    },
    {
      "attachments": {},
      "cell_type": "markdown",
      "metadata": {},
      "source": [
        "Imaginemos que tenemos un conjunto $I$ de $n$ clientes y un conjunto $J$ de $m$ potenciales ubicaciones para unos servicios. Conocemos el costo $c_{ij}$ de servir al cliente $i$ desde la ubicación $j$. El problema de la **p-mediana** consiste en elegir **p** localizaciones para los servicios dentro del conjunto $J$, y asignar los clientes a los servicios, de forma que que coste total sea mínimo. \n",
        "\n",
        "Para formular el problema usamos dos conjuntos de variables de decisión: unas variables binarias $x_{ij}$ que indican si el cliente $i$ está asignado al servicio $j$, y unas variables binarias $y_j$ que toman valor 1 si abrimos la fábrica en $j$ y valor 0 si no lo hacemos.\n",
        "\n",
        "La formulación lineal entera del problema de la p-mediana sería la siguiente:"
      ]
    },
    {
      "attachments": {},
      "cell_type": "markdown",
      "metadata": {
        "id": "toMrfo8573C-"
      },
      "source": [
        "\n",
        "\n",
        "\\begin{align*}\n",
        "\\min & \\sum_{j \\in J} f_j y_j +\\sum_{i \\in I} \\sum_{j \\in J} c_{ij} x_{ij} &    \\\\\n",
        "\\text{s.t.:} & & \\\\\n",
        "& \\sum_{j \\in J} x_{ij} =1  &  ∀  i \\in I \\\\\n",
        "& \\sum_{i \\in I} d_i x_{ij} \\leq q_j y_j & ∀ j \\in J  \\\\\n",
        "%&   x_{ij} \\leq d_i y_j              & ∀ i \\in I, j \\in J \\\\\n",
        "& x_{ij} \\in \\{ 0,1 \\}                     & ∀ i \\in I, j \\in J \\\\\n",
        "& y_j \\in \\{ 0,1 \\}                & ∀ j \\in J\n",
        "\\end{align*}"
      ]
    },
    {
      "attachments": {},
      "cell_type": "markdown",
      "metadata": {},
      "source": [
        "Los datos del problema se generan aleatoriamente, usando las distancias euclídeas como costos de asignación."
      ]
    },
    {
      "cell_type": "code",
      "execution_count": 1,
      "metadata": {
        "colab": {
          "base_uri": "https://localhost:8080/"
        },
        "id": "7vwiXOAMnLv8",
        "outputId": "e8a6ace2-6ee7-4a9f-ea6b-0c1ed42303b5"
      },
      "outputs": [
        {
          "name": "stdout",
          "output_type": "stream",
          "text": [
            "Demand of customer 0: = 80\n",
            "Demand of customer 1: = 270\n",
            "Demand of customer 2: = 250\n",
            "Demand of customer 3: = 160\n",
            "Demand of customer 4: = 180\n",
            "Facility 0: cost = 1000, capacity = 500\n",
            "Facility 1: cost = 1000, capacity = 500\n",
            "Facility 2: cost = 1000, capacity = 500\n",
            "Cost: 0 0 = 4\n",
            "Cost: 0 1 = 6\n",
            "Cost: 0 2 = 9\n",
            "Cost: 1 0 = 5\n",
            "Cost: 1 1 = 4\n",
            "Cost: 1 2 = 7\n",
            "Cost: 2 0 = 6\n",
            "Cost: 2 1 = 3\n",
            "Cost: 2 2 = 4\n",
            "Cost: 3 0 = 8\n",
            "Cost: 3 1 = 5\n",
            "Cost: 3 2 = 3\n",
            "Cost: 4 0 = 10\n",
            "Cost: 4 1 = 8\n",
            "Cost: 4 2 = 4\n",
            "range(0, 3)\n",
            "range(0, 5)\n",
            "cost: [[4, 6, 9], [5, 4, 7], [6, 3, 4], [8, 5, 3], [10, 8, 4]]\n"
          ]
        }
      ],
      "source": [
        "EPS     = 0.0001\n",
        "\n",
        "n = 5\n",
        "customers = range(n)\n",
        "m = 3\n",
        "facilities = range(m)\n",
        "\n",
        "\n",
        "#c[i][j] es el coste de servir la demanda del cliente i desde la fábrica j. Fijate que declaro cost como lista (por eso debo escribir cost[][])\n",
        "cost  =  [[ 4,  6,  9],\n",
        "          [ 5,  4,  7],\n",
        "          [ 6,  3,  4],\n",
        "          [ 8,  5,  3],\n",
        "          [ 10,  8,  4]]\n",
        "\n",
        "\n",
        "f = [ 1000, 1000, 1000] #fix cost for each facility\n",
        "q = [ 500, 500, 500]    #capaciy of each facility\n",
        "d = [ 80, 270, 250, 160, 180]  #demand of each customer\n",
        "\n",
        "\n",
        "for i in customers:\n",
        "  print('Demand of customer %d: = %d' % (i , d[i]))\n",
        "\n",
        "for j in facilities:\n",
        "  print('Facility %d: cost = %d, capacity = %d' % (j , f[j], q[j]))\n",
        "\n",
        "for i in customers:\n",
        "    for j in facilities:\n",
        "            print('Cost: %d %d = %d' % (i,j,cost[i][j]))\n",
        "\n",
        "print(facilities)\n",
        "print(customers)    \n",
        "print(\"cost:\",cost)        \n"
      ]
    },
    {
      "cell_type": "code",
      "execution_count": 2,
      "metadata": {},
      "outputs": [
        {
          "name": "stdout",
          "output_type": "stream",
          "text": [
            "Requirement already satisfied: ortools in c:\\users\\kephril\\appdata\\local\\programs\\python\\python310\\lib\\site-packages (9.5.2237)\n",
            "Requirement already satisfied: protobuf>=4.21.5 in c:\\users\\kephril\\appdata\\local\\programs\\python\\python310\\lib\\site-packages (from ortools) (4.21.12)\n",
            "Requirement already satisfied: absl-py>=0.13 in c:\\users\\kephril\\appdata\\local\\programs\\python\\python310\\lib\\site-packages (from ortools) (1.3.0)\n",
            "Requirement already satisfied: numpy>=1.13.3 in c:\\users\\kephril\\appdata\\local\\programs\\python\\python310\\lib\\site-packages (from ortools) (1.24.0)\n"
          ]
        },
        {
          "name": "stderr",
          "output_type": "stream",
          "text": [
            "\n",
            "[notice] A new release of pip available: 22.2.2 -> 22.3.1\n",
            "[notice] To update, run: python.exe -m pip install --upgrade pip\n"
          ]
        }
      ],
      "source": [
        "!pip install ortools\n",
        "from ortools.linear_solver import pywraplp"
      ]
    },
    {
      "cell_type": "code",
      "execution_count": 3,
      "metadata": {
        "colab": {
          "base_uri": "https://localhost:8080/"
        },
        "id": "njXeXkq9pTzJ",
        "outputId": "9928baf6-d947-497f-f4f8-e0f6e306d4e6"
      },
      "outputs": [
        {
          "name": "stdout",
          "output_type": "stream",
          "text": [
            "Costo total =  2025.0  in  0.076 seconds\n",
            "Open facility: 1. Fixed cost 1000\n",
            "Open facility: 2. Fixed cost 1000\n",
            "Customer 0 asignado a la facility 1.  Demanda = 1. Costo = 6 \n",
            "Customer 1 asignado a la facility 2.  Demanda = 1. Costo = 7 \n",
            "Customer 2 asignado a la facility 1.  Demanda = 1. Costo = 3 \n",
            "Customer 3 asignado a la facility 1.  Demanda = 1. Costo = 5 \n",
            "Customer 4 asignado a la facility 2.  Demanda = 1. Costo = 4 \n"
          ]
        }
      ],
      "source": [
        "solver = pywraplp.Solver('ProblemaCFLP', pywraplp.Solver.CBC_MIXED_INTEGER_PROGRAMMING)\n",
        "\n",
        "# Variables\n",
        "x = { (i,j) : solver.BoolVar('x[%i, %i]' % (i, j)) for i in customers for j in facilities } #binarias\n",
        "y = { j : solver.BoolVar('y[%i]' % j) for j in facilities }\n",
        "\n",
        "#Model\n",
        "\n",
        "solver.Minimize(solver.Sum(f[j] * y[j] for j in facilities) + solver.Sum(cost[i][j] * x[i,j] for i in customers for j in facilities) )\n",
        "[ solver.Add(solver.Sum(x[i,j] for j in facilities) == 1)  for i in customers ]\n",
        "[ solver.Add(solver.Sum(d[i] * x[i,j] for i in customers) <= q[j]*y[j])  for j in facilities ]\n",
        "\n",
        "solver.Solve()\n",
        "\n",
        "# This prints the objetive value a the optimal solition\n",
        "print('Costo total = ', solver.Objective().Value() ,\" in \", solver.WallTime()/1000, \"seconds\")\n",
        "\n",
        "for j in facilities:\n",
        "  if y[j].solution_value() > EPS:\n",
        "    print('Open facility: %d. Fixed cost %d' % (j, f[j]))\n",
        "\n",
        "\n",
        "for i in customers:\n",
        "    for j in facilities:\n",
        "        if x[i, j].solution_value() > EPS  :\n",
        "          print('Customer %d asignado a la facility %d.  Demanda = %g. Costo = %g ' % (i,j,x[i,j].solution_value(),cost[i][j]*x[i,j].solution_value()))\n",
        "            #print('Customer %d asignado a la facility %d.  Costo = %d' % (i,j,cost[i][j]))"
      ]
    },
    {
      "cell_type": "markdown",
      "metadata": {
        "id": "RE88dWDvyLVb"
      },
      "source": [
        "Si generamos los datos del problema aleatoriamente, el código sería el siguiente:"
      ]
    },
    {
      "cell_type": "code",
      "execution_count": 6,
      "metadata": {
        "colab": {
          "base_uri": "https://localhost:8080/",
          "height": 1000
        },
        "id": "NK5u6Es6zuKI",
        "outputId": "0ad9f4f7-3dea-4d32-be1e-965bbe3dc40f"
      },
      "outputs": [
        {
          "name": "stdout",
          "output_type": "stream",
          "text": [
            "Demands: {0: 5, 1: 2, 2: 2, 3: 6, 4: 2, 5: 1, 6: 5, 7: 4, 8: 6, 9: 8, 10: 7, 11: 5, 12: 2, 13: 7, 14: 6, 15: 10, 16: 4, 17: 4, 18: 4, 19: 5}\n",
            "Fix costs: {0: 344, 1: 176, 2: 239}\n",
            "Capacitiess: {0: 22, 1: 40, 2: 46}\n"
          ]
        },
        {
          "data": {
            "image/png": "[encoded data removed]",
            "text/plain": [
              "<Figure size 640x480 with 1 Axes>"
            ]
          },
          "metadata": {},
          "output_type": "display_data"
        },
        {
          "name": "stdout",
          "output_type": "stream",
          "text": [
            "{(0, 0): 92, (0, 1): 36, (0, 2): 47, (1, 0): 36, (1, 1): 72, (1, 2): 60, (2, 0): 98, (2, 1): 80, (2, 2): 50, (3, 0): 109, (3, 1): 85, (3, 2): 57, (4, 0): 97, (4, 1): 96, (4, 2): 67, (5, 0): 53, (5, 1): 8, (5, 2): 22, (6, 0): 34, (6, 1): 36, (6, 2): 26, (7, 0): 38, (7, 1): 62, (7, 2): 46, (8, 0): 57, (8, 1): 6, (8, 2): 24, (9, 0): 32, (9, 1): 24, (9, 2): 39, (10, 0): 56, (10, 1): 29, (10, 2): 4, (11, 0): 73, (11, 1): 20, (11, 2): 26, (12, 0): 70, (12, 1): 51, (12, 2): 21, (13, 0): 79, (13, 1): 67, (13, 2): 37, (14, 0): 19, (14, 1): 47, (14, 2): 43, (15, 0): 61, (15, 1): 36, (15, 2): 6, (16, 0): 90, (16, 1): 102, (16, 2): 75, (17, 0): 57, (17, 1): 61, (17, 2): 36, (18, 0): 98, (18, 1): 87, (18, 2): 57, (19, 0): 38, (19, 1): 24, (19, 2): 22}\n"
          ]
        }
      ],
      "source": [
        "n = 20\n",
        "customers = range(n)\n",
        "m = 3\n",
        "facilities = range(m)\n",
        "\n",
        "import random\n",
        "random.seed(54613)\n",
        "\n",
        "#Demandas, costos y capacidades\n",
        "d = { i : random.randint(1,10) for i in customers }\n",
        "q = { j : random.randint(10,60) for j in facilities }    ##Con q máximo 50 sale no factible. Con 90 sí tiene solución.\n",
        "f = { j : random.randint(100,500) for j in facilities }\n",
        "\n",
        "print(\"Demands:\",d)\n",
        "print(\"Fix costs:\",f)\n",
        "print(\"Capacitiess:\",q)\n",
        "\n",
        "#Coordenadas de los customers y facilities en el plano\n",
        "customers_coor   = [(random.randint(0,100),random.randint(0,100)) for i in customers]\n",
        "facilities_coor   = [(random.randint(0,100),random.randint(0,100)) for j in facilities]\n",
        "\n",
        "import math\n",
        "def euc_dist(customers_coor, facilities_coor, i, j):\n",
        "    dx = customers_coor[i][0] - facilities_coor[j][0]\n",
        "    dy = customers_coor[i][1] - facilities_coor[j][1]\n",
        "    return math.floor(math.sqrt(dx*dx + dy*dy))\n",
        "\n",
        "cost = {(i,j) : euc_dist(customers_coor, facilities_coor, i, j) for i in customers for j in facilities} #diccionario, no lista\n",
        "\n",
        "\n",
        "import matplotlib.pyplot as plt\n",
        "def dibuja(selected):                \n",
        "    plt.plot([p[0] for p in customers_coor], [p[1] for p in customers_coor], 'bo')\n",
        "    plt.plot([p[0] for p in facilities_coor], [p[1] for p in facilities_coor], 'rs') \n",
        "    for (i,j) in selected: #dibuja las asignaciones\n",
        "        plt.plot([customers_coor[i][0],facilities_coor[j][0]], [customers_coor[i][1],facilities_coor[j][1]], 'g-')\n",
        "    plt.show()\n",
        "\n",
        "dibuja({})\n",
        "\n",
        "print(cost)\n"
      ]
    },
    {
      "cell_type": "code",
      "execution_count": 7,
      "metadata": {},
      "outputs": [
        {
          "name": "stdout",
          "output_type": "stream",
          "text": [
            "Requirement already satisfied: ortools in c:\\users\\kephril\\appdata\\local\\programs\\python\\python310\\lib\\site-packages (9.5.2237)\n",
            "Requirement already satisfied: protobuf>=4.21.5 in c:\\users\\kephril\\appdata\\local\\programs\\python\\python310\\lib\\site-packages (from ortools) (4.21.12)\n",
            "Requirement already satisfied: absl-py>=0.13 in c:\\users\\kephril\\appdata\\local\\programs\\python\\python310\\lib\\site-packages (from ortools) (1.3.0)\n",
            "Requirement already satisfied: numpy>=1.13.3 in c:\\users\\kephril\\appdata\\local\\programs\\python\\python310\\lib\\site-packages (from ortools) (1.24.0)\n"
          ]
        },
        {
          "name": "stderr",
          "output_type": "stream",
          "text": [
            "\n",
            "[notice] A new release of pip available: 22.2.2 -> 22.3.1\n",
            "[notice] To update, run: python.exe -m pip install --upgrade pip\n"
          ]
        }
      ],
      "source": [
        "!pip install ortools\n",
        "from ortools.linear_solver import pywraplp"
      ]
    },
    {
      "cell_type": "code",
      "execution_count": 8,
      "metadata": {},
      "outputs": [
        {
          "name": "stdout",
          "output_type": "stream",
          "text": [
            "Costo total =  1429.0  in  0.053 seconds\n",
            "Open facility: 0. Fixed cost 344\n",
            "Open facility: 1. Fixed cost 176\n",
            "Open facility: 2. Fixed cost 239\n",
            "Customer 0 asignado a la facility 1.  Demanda = 1. Costo = 36 \n",
            "Customer 1 asignado a la facility 0.  Demanda = 1. Costo = 36 \n",
            "Customer 2 asignado a la facility 2.  Demanda = 1. Costo = 50 \n",
            "Customer 3 asignado a la facility 2.  Demanda = 1. Costo = 57 \n",
            "Customer 4 asignado a la facility 2.  Demanda = 1. Costo = 67 \n",
            "Customer 5 asignado a la facility 1.  Demanda = 1. Costo = 8 \n",
            "Customer 6 asignado a la facility 0.  Demanda = 1. Costo = 34 \n",
            "Customer 7 asignado a la facility 0.  Demanda = 1. Costo = 38 \n",
            "Customer 8 asignado a la facility 1.  Demanda = 1. Costo = 6 \n",
            "Customer 9 asignado a la facility 1.  Demanda = 1. Costo = 24 \n",
            "Customer 10 asignado a la facility 2.  Demanda = 1. Costo = 4 \n",
            "Customer 11 asignado a la facility 1.  Demanda = 1. Costo = 20 \n",
            "Customer 12 asignado a la facility 2.  Demanda = 1. Costo = 21 \n",
            "Customer 13 asignado a la facility 2.  Demanda = 1. Costo = 37 \n",
            "Customer 14 asignado a la facility 0.  Demanda = 1. Costo = 19 \n",
            "Customer 15 asignado a la facility 2.  Demanda = 1. Costo = 6 \n",
            "Customer 16 asignado a la facility 0.  Demanda = 1. Costo = 90 \n",
            "Customer 17 asignado a la facility 2.  Demanda = 1. Costo = 36 \n",
            "Customer 18 asignado a la facility 2.  Demanda = 1. Costo = 57 \n",
            "Customer 19 asignado a la facility 1.  Demanda = 1. Costo = 24 \n"
          ]
        },
        {
          "data": {
            "image/png": "[encoded data removed]",
            "text/plain": [
              "<Figure size 640x480 with 1 Axes>"
            ]
          },
          "metadata": {},
          "output_type": "display_data"
        }
      ],
      "source": [
        "solver = pywraplp.Solver('ProblemaCFLPrand', pywraplp.Solver.CBC_MIXED_INTEGER_PROGRAMMING)\n",
        "\n",
        "# Variables: \n",
        "#x[i,j] = cantidad de la demanda del cliente i satisfecha por la facility j, variable continua.\n",
        "x = { (i,j) : solver.BoolVar('x[%i, %i]' % (i, j)) for i in customers for j in facilities } #binarias\n",
        "y = { j : solver.BoolVar('y[%i]' % j) for j in facilities } #binarias\n",
        "\n",
        "#Model\n",
        "solver.Minimize(solver.Sum(f[j] * y[j] for j in facilities) + solver.Sum(cost[i,j] * x[i,j] for i in customers for j in facilities) )\n",
        "[ solver.Add(solver.Sum(x[i,j] for j in facilities) == 1)  for i in customers ]\n",
        "[ solver.Add(solver.Sum(d[i] * x[i,j] for i in customers) <= q[j]*y[j])  for j in facilities ]\n",
        "\n",
        "final_status = solver.Solve()\n",
        "\n",
        "if final_status == solver.OPTIMAL:   \n",
        "    # This prints the objetive value a the optimal solition\n",
        "    print('Costo total = ', solver.Objective().Value() ,\" in \", solver.WallTime()/1000, \"seconds\")\n",
        "\n",
        "    for j in facilities:\n",
        "      if y[j].solution_value() > EPS:\n",
        "        print('Open facility: %d. Fixed cost %d' % (j, f[j]))\n",
        "\n",
        "    for i in customers:\n",
        "        for j in facilities:\n",
        "            if x[i, j].solution_value() > EPS  :\n",
        "              print('Customer %d asignado a la facility %d.  Demanda = %g. Costo = %g ' % (i,j,x[i,j].solution_value(),cost[i,j]*x[i,j].solution_value()))\n",
        "\n",
        "    selected = [(i,j) for i,j in cost.keys() if x[i, j].solution_value() > EPS]\n",
        "    dibuja(selected)     \n",
        "\n",
        "\n",
        "elif final_status == solver.INFEASIBLE:    \n",
        "  print('PROBLEMA NO FACTIBLE')      \n",
        "\n",
        "else:\n",
        "  print('LA OPTIMIZACIÓN ACABÓ CON EL STATUS:')\n",
        "  print(solver_status)  \n"
      ]
    }
  ],
  "metadata": {
    "colab": {
      "provenance": []
    },
    "kernelspec": {
      "display_name": "Python 3",
      "language": "python",
      "name": "python3"
    },
    "language_info": {
      "codemirror_mode": {
        "name": "ipython",
        "version": 3
      },
      "file_extension": ".py",
      "mimetype": "text/x-python",
      "name": "python",
      "nbconvert_exporter": "python",
      "pygments_lexer": "ipython3",
      "version": "3.10.8"
    },
    "vscode": {
      "interpreter": {
        "hash": "6ca459c3085e5c13378bbe673892e7f77e16ed8067997e96f6e953a6aa4fd6e6"
      }
    }
  },
  "nbformat": 4,
  "nbformat_minor": 0
}
