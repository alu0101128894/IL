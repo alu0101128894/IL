{
  "cells": [
    {
      "attachments": {},
      "cell_type": "markdown",
      "metadata": {},
      "source": [
        "**Realizado por**: José Javier Díaz González\n",
        "\n",
        "**Correo**: alu0101128894@ull.edu.es"
      ]
    },
    {
      "cell_type": "code",
      "execution_count": 3,
      "metadata": {},
      "outputs": [
        {
          "name": "stderr",
          "output_type": "stream",
          "text": [
            "\u001b[32m\u001b[1m   Resolving\u001b[22m\u001b[39m package versions...\n"
          ]
        },
        {
          "name": "stderr",
          "output_type": "stream",
          "text": [
            "\u001b[32m\u001b[1m  No Changes\u001b[22m\u001b[39m to `C:\\Users\\Kephril\\.julia\\environments\\v1.8\\Project.toml`\n",
            "\u001b[32m\u001b[1m  No Changes\u001b[22m\u001b[39m to `C:\\Users\\Kephril\\.julia\\environments\\v1.8\\Manifest.toml`"
          ]
        },
        {
          "name": "stderr",
          "output_type": "stream",
          "text": [
            "\n",
            "\u001b[32m\u001b[1m   Resolving\u001b[22m\u001b[39m package versions..."
          ]
        },
        {
          "name": "stderr",
          "output_type": "stream",
          "text": [
            "\n",
            "\u001b[32m\u001b[1m  No Changes\u001b[22m\u001b[39m to `C:\\Users\\Kephril\\.julia\\environments\\v1.8\\Project.toml`\n",
            "\u001b[32m\u001b[1m  No Changes\u001b[22m\u001b[39m to `C:\\Users\\Kephril\\.julia\\environments\\v1.8\\Manifest.toml`"
          ]
        },
        {
          "name": "stderr",
          "output_type": "stream",
          "text": [
            "\n"
          ]
        }
      ],
      "source": [
        "import Pkg; \n",
        "Pkg.add(\"GLPK\")\n",
        "Pkg.add(\"JuMP\")\n",
        "\n",
        "using JuMP, GLPK"
      ]
    },
    {
      "attachments": {},
      "cell_type": "markdown",
      "metadata": {
        "id": "GnSoOX6btmkh"
      },
      "source": [
        "## **Problema de rutas de vehículos con capacidades (CVRP) - Capacitated Vehicle Routing Problem**\n",
        "\n"
      ]
    },
    {
      "cell_type": "code",
      "execution_count": 5,
      "metadata": {},
      "outputs": [
        {
          "name": "stdout",
          "output_type": "stream",
          "text": [
            "Valor óptimo: 0.0\n",
            "Solución: \n",
            "Vehiculo: 1\n",
            "[1,1]\n",
            "[2,2]\n",
            "[3,3]\n",
            "[4,4]\n",
            "[5,5]\n",
            "[6,6]\n",
            "Vehiculo: 2\n",
            "[1,1]\n",
            "Vehiculo: 3\n",
            "[1,1]\n",
            "\n",
            "Cantidad de productos transportados desde el cliente i al cliente j\n",
            "\n",
            "Vehiculo: 1\n",
            "[1,1]: 0.0\n",
            "[2,2]: 0.0\n",
            "[3,3]: 0.0\n",
            "[4,4]: 0.0\n",
            "[5,5]: 0.0\n",
            "[6,6]: 0.0\n",
            "\n",
            "Vehiculo: 2\n",
            "[1,1]: 0.0\n",
            "\n",
            "Vehiculo: 3\n",
            "[1,1]: 0.0\n"
          ]
        }
      ],
      "source": [
        "# Número de vehiculos\n",
        "m = 3\n",
        "# Número de clientes\n",
        "n = 5\n",
        "# Capacidad de los vehiculos\n",
        "Q = 10\n",
        "\n",
        "# Costo de transporte\n",
        "c = [0 2 3 1 4 3;\n",
        "     2 0 1 3 2 3;\n",
        "     3 1 0 5 3 5;\n",
        "     1 3 5 0 2 2;\n",
        "     4 2 3 2 0 2;\n",
        "     3 3 5 2 2 0]\n",
        "\n",
        "# Demanda de los clientes\n",
        "d = [0 1 2 8 4 8]\n",
        "\n",
        "# Definición del modelo\n",
        "model = Model(GLPK.Optimizer)\n",
        "\n",
        "@variable(model, x[1:n+1, 1:n+1, 1:m], Bin) # Definición de las variables de decisión\n",
        "@variable(model, f[1:n+1, 1:n+1, 1:m] >= 0) # Cantidad de productos transportados desde el cliente i al cliente j\n",
        "\n",
        "# Definición de la función objetivo\n",
        "@objective(model, Min, sum(c[i,j]*x[i,j,k] for i in 1:n+1, j in 1:n+1, k in 1:m))\n",
        "\n",
        "# Definición de las restricciones\n",
        "\n",
        "@constraint(model, [i in 2:n+1], sum(x[i,j,k] for j in 1:n+1, k in 1:m) == 1) # Cada cliente debe ser visitado exactamente una vez\n",
        "@constraint(model, [i in 2:n+1], sum(x[j,i,k] for j in 1:n+1, k in 1:m) == 1)\n",
        "\n",
        "@constraint(model, [k in 1:m], sum(x[1,j,k] for j in 1:n+1) == 1) # Cada vehiculo debe iniciar y terminar en el deposito\n",
        "@constraint(model, [k in 1:m], sum(x[j,1,k] for j in 1:n+1) == 1)\n",
        "\n",
        "@constraint(model, [i in 2:n+1, j in 2:n+1, k in 1:m], f[i,j,k] <= Q*x[i,j,k]) # Cantidad de productos transportados desde el cliente i al cliente j\n",
        "\n",
        "optimize!(model) # Solution del modelo\n",
        "\n",
        "# Imprimir la solucion\n",
        "println(\"Valor óptimo: \", objective_value(model))\n",
        "println(\"Solución: \")\n",
        "for k in 1:m\n",
        "    println(\"Vehiculo: \", k)\n",
        "    for i in 1:n+1\n",
        "        for j in 1:n+1\n",
        "            if value(x[i,j,k]) == 1\n",
        "                println(\"[\", i, \",\", j, \"]\")\n",
        "            end\n",
        "        end\n",
        "    end\n",
        "end\n",
        "\n",
        "# Imprimir la cantidad de productos transportados desde el cliente i al cliente j\n",
        "println(\"\\nCantidad de productos transportados desde el cliente i al cliente j\")\n",
        "for k in 1:m\n",
        "    println(\"\\nVehiculo: \", k)\n",
        "    for i in 1:n+1\n",
        "        for j in 1:n+1\n",
        "            if value(x[i,j,k]) == 1\n",
        "                println(\"[\", i, \",\", j, \"]: \", value(f[i,j,k]))\n",
        "            end\n",
        "        end\n",
        "    end\n",
        "end"
      ]
    }
  ],
  "metadata": {
    "colab": {
      "collapsed_sections": [
        "tQ1r1bbb0yBv",
        "GnSoOX6btmkh",
        "hvteKiLQc_YG",
        "-dM3RipX6bXB",
        "5uKXkbLzOzW4",
        "OCVu2N7MFziG",
        "3J94SPVLM9fC"
      ],
      "provenance": [],
      "toc_visible": true
    },
    "gpuClass": "standard",
    "kernelspec": {
      "display_name": "Julia 1.8.3",
      "language": "julia",
      "name": "julia-1.8"
    },
    "language_info": {
      "file_extension": ".jl",
      "mimetype": "application/julia",
      "name": "julia",
      "version": "1.8.3"
    }
  },
  "nbformat": 4,
  "nbformat_minor": 0
}
